{
 "cells": [
  {
   "cell_type": "code",
   "execution_count": 1,
   "metadata": {},
   "outputs": [],
   "source": [
    "import os\n",
    "from sklearn.feature_extraction.text import TfidfVectorizer\n",
    "file_path = 'C:\\\\Users\\\\grand\\\\text mining\\\\PA1-data'\n",
    "# file_path = 'C:\\\\Users\\\\ouchu\\\\github\\\\crawler'\n"
   ]
  },
  {
   "cell_type": "code",
   "execution_count": 8,
   "metadata": {},
   "outputs": [
    {
     "name": "stdout",
     "output_type": "stream",
     "text": [
      "the white house is also keeping a close watch on yugoslavia, where \n",
      "opposition forces are about to step up the pressure on president slobodan \n",
      "milosevic. but will it work? nbc's jim maceda is in belgrade tonight. \n",
      "serbia on the eve of a general strike. this two-hour roadblock is \n",
      "just a taste of what will come tomorrow, says the opposition, when \n",
      "a nationwide work stoppage is to begin. the purpose, to force out \n",
      "the man they say stole the presidential election, slobodan milosevic. \n",
      "the people don't accept to be victim and to be hostage of one person, \n",
      "milosevic. time is working against him now. but will the pressure \n",
      "work? four years ago, hundreds of thousands of serbs marched against \n",
      "milosevic calling for a general strike as well. the protest lasted \n",
      "three months, but milosevic survived. that's the real question. does \n",
      "the opposition have the power to confront the regime with its combined \n",
      "wealth to get rid of it? a case in point. these coal mine, the very \n",
      "heart of serbia's economy, now on strike, only a handful of workers \n",
      "guarding equipment. but with a week of electricity reserves, these \n",
      "engineers are worried about blackouts. \"we're just making a gesture \n",
      "to try to make this regime come to its senses.\" there are difficulties, \n",
      "too, spreading the word about the strike. independent radio station \n",
      "b-292 has been shut down three times. its signal jammed in belgrade \n",
      "leaving journalists frustrated. i'm waiting for a better time when \n",
      "people in belgrade can hear and listening my radio. poorly organized \n",
      "opposition rallies have been shrinking, now drawing barely 10,000 \n",
      "in belgrade. but opposition leaders hope all that will change tomorrow \n",
      "and civil disobedience throughout the land may give new life to their \n",
      "struggle to oust milosevic. jim maceda, nbc news, belgrade.\n"
     ]
    }
   ],
   "source": [
    "num = 1\n",
    "with open(os.path.join(file_path,str(num) + \".txt\"), mode='r') as f:\n",
    "    line = f.read()\n",
    "TFlDF = TfidfVectorizer()\n",
    "TFIDF vectors = TFlDF.fittransform(line)\n",
    "print(TFIDF_vectors.toarrayO)"
   ]
  },
  {
   "cell_type": "code",
   "execution_count": 3,
   "metadata": {},
   "outputs": [],
   "source": [
    "from collections import Counter\n",
    "puncs = set((',', '.', '--', '-', '!', '?', ':', ';', '``', \"''\", '(', ')', '[', ']'))\n",
    "word_list = (x.lower() for x in brown.words() if x not in puncs)\n",
    "token_counts = Counter(word_list)"
   ]
  },
  {
   "cell_type": "code",
   "execution_count": 4,
   "metadata": {},
   "outputs": [
    {
     "data": {
      "text/plain": [
       "[('the', 69971),\n",
       " ('of', 36412),\n",
       " ('and', 28853),\n",
       " ('to', 26158),\n",
       " ('a', 23195),\n",
       " ('in', 21337),\n",
       " ('that', 10594),\n",
       " ('is', 10109),\n",
       " ('was', 9815),\n",
       " ('he', 9548),\n",
       " ('for', 9489),\n",
       " ('it', 8760),\n",
       " ('with', 7289),\n",
       " ('as', 7253),\n",
       " ('his', 6996),\n",
       " ('on', 6741),\n",
       " ('be', 6377),\n",
       " ('at', 5372),\n",
       " ('by', 5306),\n",
       " ('i', 5164)]"
      ]
     },
     "execution_count": 4,
     "metadata": {},
     "output_type": "execute_result"
    }
   ],
   "source": [
    "token_counts.most_common(20)"
   ]
  },
  {
   "cell_type": "code",
   "execution_count": null,
   "metadata": {},
   "outputs": [],
   "source": []
  }
 ],
 "metadata": {
  "interpreter": {
   "hash": "f16a9aa8f771a146f91335a3b9f08c4359aafb325bfa2bc18b12388b91bda79f"
  },
  "kernelspec": {
   "display_name": "Python 3.8.8 64-bit",
   "name": "python3"
  },
  "language_info": {
   "codemirror_mode": {
    "name": "ipython",
    "version": 3
   },
   "file_extension": ".py",
   "mimetype": "text/x-python",
   "name": "python",
   "nbconvert_exporter": "python",
   "pygments_lexer": "ipython3",
   "version": "3.8.8"
  }
 },
 "nbformat": 4,
 "nbformat_minor": 4
}
