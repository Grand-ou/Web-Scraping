{
 "cells": [
  {
   "cell_type": "code",
   "execution_count": 69,
   "metadata": {},
   "outputs": [],
   "source": [
    "import nltk\n",
    "from nltk import word_tokenize\n",
    "import pandas as pd\n",
    "from nltk.stem import WordNetLemmatizer\n",
    "from sklearn.svm import SVC\n",
    "from sklearn.metrics.pairwise import cosine_similarity\n",
    "# nltk.download()\n",
    "from sklearn.feature_extraction.text import TfidfVectorizer\n",
    "from sklearn. naive_bayes import BernoulliNB\n",
    "from sklearn import metrics\n",
    "from sklearn.feature_extraction.text import CountVectorizer\n",
    "from sklearn import datasets\n",
    "\n",
    "from sklearn.metrics import precision_recall_curve\n",
    "import matplotlib.pyplot as plt\n",
    "# file_path = 'C:\\\\Users\\\\grand\\\\text mining'\n",
    "file_path = 'C:\\\\Users\\\\ouchu\\\\text mining'\n",
    "stop_words = nltk.corpus.stopwords.words('english')\n",
    "lemmatizer = WordNetLemmatizer()\n",
    "text = []\n",
    "for num in range(1, 1096):\n",
    "    with open((file_path+'\\\\data\\\\PA1-data\\\\'+ str(num) + \".txt\"), mode='r') as f:\n",
    "        line = f.read()\n",
    "        # if num == 11:\n",
    "        #     print(line)\n",
    "        line = line.lower()\n",
    "        word_list = nltk.word_tokenize(line)\n",
    "        lemmatized_output = ' '.join([lemmatizer.lemmatize(w) for w in word_list])\n",
    "        text.append(lemmatized_output)\n",
    "        # text.append(line)\n",
    "\n"
   ]
  },
  {
   "cell_type": "code",
   "execution_count": 70,
   "metadata": {},
   "outputs": [],
   "source": [
    "lab = []\n",
    "with open((file_path+'\\\\data\\\\training'+ \".txt\"), 'r') as f:\n",
    "    lab = f.read()\n",
    "lab = lab.split('\\n')"
   ]
  },
  {
   "cell_type": "code",
   "execution_count": 71,
   "metadata": {},
   "outputs": [
    {
     "name": "stdout",
     "output_type": "stream",
     "text": [
      "[[0 0 0 ... 0 0 0]\n",
      " [0 0 0 ... 0 0 0]\n",
      " [0 0 0 ... 0 0 0]\n",
      " ...\n",
      " [1 0 0 ... 0 0 0]\n",
      " [1 0 0 ... 1 0 0]\n",
      " [2 0 0 ... 0 0 0]]\n"
     ]
    }
   ],
   "source": [
    "\n",
    "\n",
    "x_train = []\n",
    "x_test = []\n",
    "y_train = []\n",
    "y_test = []\n",
    "label = -1\n",
    "for i in lab:\n",
    "    i = i.split()\n",
    "    i = list(map(int, i))\n",
    "    \n",
    "    for j in range(1, len(i)):\n",
    "        \n",
    "        if j <= 13:\n",
    "            # print(i[j], text[i[j]], i[0])\n",
    "            x_train.append(text[i[j] - 1])\n",
    "            y_train.append(i[0])\n",
    "            continue\n",
    "        # print(i[j])\n",
    "        x_test.append(text[i[j] - 1])\n",
    "        y_test.append(i[0])\n",
    "\n",
    "# print(texts[0:10])\n",
    "from sklearn.feature_extraction.text import CountVectorizer\n",
    "length = len(x_test)\n",
    "binary_vectorizer = CountVectorizer()\n",
    "binary_vectors = binary_vectorizer.fit_transform(x_test + x_train)\n",
    "print(binary_vectors.toarray())\n",
    "x_test = binary_vectors[:length]\n",
    "x_train = binary_vectors[length:]\n",
    "\n"
   ]
  },
  {
   "cell_type": "code",
   "execution_count": 72,
   "metadata": {},
   "outputs": [
    {
     "name": "stdout",
     "output_type": "stream",
     "text": [
      "              precision    recall  f1-score   support\n",
      "\n",
      "           1       1.00      1.00      1.00         2\n",
      "           2       0.00      0.00      0.00         2\n",
      "           3       1.00      1.00      1.00         2\n",
      "           4       1.00      0.50      0.67         2\n",
      "           5       1.00      1.00      1.00         2\n",
      "           6       1.00      1.00      1.00         2\n",
      "           7       1.00      1.00      1.00         2\n",
      "           8       0.20      1.00      0.33         2\n",
      "           9       1.00      1.00      1.00         2\n",
      "          10       1.00      1.00      1.00         2\n",
      "          11       0.00      0.00      0.00         2\n",
      "          12       1.00      0.50      0.67         2\n",
      "          13       0.00      0.00      0.00         2\n",
      "\n",
      "    accuracy                           0.69        26\n",
      "   macro avg       0.71      0.69      0.67        26\n",
      "weighted avg       0.71      0.69      0.67        26\n",
      "\n"
     ]
    },
    {
     "name": "stderr",
     "output_type": "stream",
     "text": [
      "C:\\Users\\ouchu\\AppData\\Local\\Packages\\PythonSoftwareFoundation.Python.3.9_qbz5n2kfra8p0\\LocalCache\\local-packages\\Python39\\site-packages\\sklearn\\metrics\\_classification.py:1308: UndefinedMetricWarning: Precision and F-score are ill-defined and being set to 0.0 in labels with no predicted samples. Use `zero_division` parameter to control this behavior.\n",
      "  _warn_prf(average, modifier, msg_start, len(result))\n",
      "C:\\Users\\ouchu\\AppData\\Local\\Packages\\PythonSoftwareFoundation.Python.3.9_qbz5n2kfra8p0\\LocalCache\\local-packages\\Python39\\site-packages\\sklearn\\metrics\\_classification.py:1308: UndefinedMetricWarning: Precision and F-score are ill-defined and being set to 0.0 in labels with no predicted samples. Use `zero_division` parameter to control this behavior.\n",
      "  _warn_prf(average, modifier, msg_start, len(result))\n",
      "C:\\Users\\ouchu\\AppData\\Local\\Packages\\PythonSoftwareFoundation.Python.3.9_qbz5n2kfra8p0\\LocalCache\\local-packages\\Python39\\site-packages\\sklearn\\metrics\\_classification.py:1308: UndefinedMetricWarning: Precision and F-score are ill-defined and being set to 0.0 in labels with no predicted samples. Use `zero_division` parameter to control this behavior.\n",
      "  _warn_prf(average, modifier, msg_start, len(result))\n"
     ]
    }
   ],
   "source": [
    "\n",
    "model = BernoulliNB()\n",
    "model.fit(x_train,y_train)\n",
    "predicted_results = []\n",
    "expected_results = []\n",
    "expected_results.extend(y_test)\n",
    "predicted_results.extend(model.predict(x_test))\n",
    "from sklearn import metrics\n",
    "print(metrics.classification_report(expected_results, predicted_results))"
   ]
  },
  {
   "cell_type": "code",
   "execution_count": null,
   "metadata": {},
   "outputs": [],
   "source": []
  },
  {
   "cell_type": "code",
   "execution_count": 73,
   "metadata": {},
   "outputs": [
    {
     "data": {
      "image/png": "[encoded data removed]",
      "text/plain": [
       "<Figure size 432x288 with 1 Axes>"
      ]
     },
     "metadata": {
      "needs_background": "light"
     },
     "output_type": "display_data"
    }
   ],
   "source": [
    "def pr_curve(n_classes, y_test, y_score):\n",
    "\n",
    "    precision = dict()\n",
    "    recall = dict()\n",
    "    \n",
    "    for i in range(n_classes):\n",
    "        y = []\n",
    "        for j in range(len(y_test)):\n",
    "            if y_test[j] == i+1:\n",
    "                y.append(1)\n",
    "            else:\n",
    "                y.append(0)\n",
    "        \n",
    "        # print(y, y_score[:, i])\n",
    "        precision[i], recall[i], _ = precision_recall_curve(y,\n",
    "                                                            y_score[:, i])\n",
    "        plt.plot(recall[i], precision[i], lw=2, label='class {}'.format(i))\n",
    "        \n",
    "    plt.xlabel(\"recall\")\n",
    "    plt.ylabel(\"precision\")\n",
    "    plt.legend(loc=\"best\")\n",
    "    plt.title(\"precision vs. recall curve\")\n",
    "    plt.show()\n",
    "pr_curve(13, y_test, model.predict_proba(x_test))"
   ]
  },
  {
   "cell_type": "code",
   "execution_count": 81,
   "metadata": {},
   "outputs": [],
   "source": [
    "x_train = []\n",
    "x_test = []\n",
    "y_train = []\n",
    "y_test = []\n",
    "label = -1\n",
    "for i in lab:\n",
    "    i = i.split()\n",
    "    i = list(map(int, i))\n",
    "    \n",
    "    for j in range(1, len(i)):\n",
    "        \n",
    "        if j <= 13:\n",
    "            # print(i[j], text[i[j]], i[0])\n",
    "            x_train.append(text[i[j] - 1])\n",
    "            y_train.append(i[0])\n",
    "            continue\n",
    "        # print(i[j])\n",
    "        x_test.append(text[i[j] - 1])\n",
    "        y_test.append(i[0])\n",
    "texts = x_test + x_train"
   ]
  },
  {
   "cell_type": "code",
   "execution_count": 82,
   "metadata": {},
   "outputs": [],
   "source": [
    "\n",
    "TFlDF = TfidfVectorizer( lowercase=True, stop_words=set(stop_words), min_df=1)\n",
    "TFIDF_vectors = TFlDF.fit_transform(texts)\n",
    "length = len(x_test)\n",
    "\n",
    "\n",
    "x_test = TFIDF_vectors[:length]\n",
    "x_train = TFIDF_vectors[length:]"
   ]
  },
  {
   "cell_type": "code",
   "execution_count": 83,
   "metadata": {},
   "outputs": [
    {
     "name": "stdout",
     "output_type": "stream",
     "text": [
      "[1, 1, 2, 2, 6, 3, 4, 4, 5, 5, 6, 6, 7, 7, 8, 8, 9, 9, 10, 10, 11, 11, 12, 12, 13, 13]\n",
      "              precision    recall  f1-score   support\n",
      "\n",
      "           1       1.00      1.00      1.00         2\n",
      "           2       1.00      1.00      1.00         2\n",
      "           3       1.00      0.50      0.67         2\n",
      "           4       1.00      1.00      1.00         2\n",
      "           5       1.00      1.00      1.00         2\n",
      "           6       0.67      1.00      0.80         2\n",
      "           7       1.00      1.00      1.00         2\n",
      "           8       1.00      1.00      1.00         2\n",
      "           9       1.00      1.00      1.00         2\n",
      "          10       1.00      1.00      1.00         2\n",
      "          11       1.00      1.00      1.00         2\n",
      "          12       1.00      1.00      1.00         2\n",
      "          13       1.00      1.00      1.00         2\n",
      "\n",
      "    accuracy                           0.96        26\n",
      "   macro avg       0.97      0.96      0.96        26\n",
      "weighted avg       0.97      0.96      0.96        26\n",
      "\n"
     ]
    }
   ],
   "source": [
    "#SVM_model = SVC(kernel='linear', C=1.0)\n",
    "SVM_model = SVC(kernel='rbf', gamma='scale', C=1.0, probability=True)\n",
    "# SVM_model = SVC(kernel='poly', degree=2, coef0=1, C=1.0)\n",
    "SVM_model.fit(x_train,y_train)\n",
    "predicted_results = []\n",
    "expected_results = []\n",
    "expected_results.extend(y_test)\n",
    "predicted_results.extend(SVM_model.predict(x_test))\n",
    "print(predicted_results)\n",
    "\n",
    "print(metrics.classification_report(expected_results, predicted_results))"
   ]
  },
  {
   "cell_type": "code",
   "execution_count": 84,
   "metadata": {},
   "outputs": [
    {
     "name": "stdout",
     "output_type": "stream",
     "text": [
      "[1, 1, 2, 2, 3, 3, 4, 4, 5, 5, 6, 6, 7, 7, 8, 8, 9, 9, 10, 10, 11, 11, 12, 12, 13, 13]\n",
      "              precision    recall  f1-score   support\n",
      "\n",
      "           1       1.00      1.00      1.00         2\n",
      "           2       1.00      1.00      1.00         2\n",
      "           3       1.00      1.00      1.00         2\n",
      "           4       1.00      1.00      1.00         2\n",
      "           5       1.00      1.00      1.00         2\n",
      "           6       1.00      1.00      1.00         2\n",
      "           7       1.00      1.00      1.00         2\n",
      "           8       1.00      1.00      1.00         2\n",
      "           9       1.00      1.00      1.00         2\n",
      "          10       1.00      1.00      1.00         2\n",
      "          11       1.00      1.00      1.00         2\n",
      "          12       1.00      1.00      1.00         2\n",
      "          13       1.00      1.00      1.00         2\n",
      "\n",
      "    accuracy                           1.00        26\n",
      "   macro avg       1.00      1.00      1.00        26\n",
      "weighted avg       1.00      1.00      1.00        26\n",
      "\n"
     ]
    }
   ],
   "source": [
    "SVM_model2 = SVC(kernel='linear', C=1.0, probability=True)\n",
    "\n",
    "SVM_model2.fit(x_train,y_train)\n",
    "predicted_results = []\n",
    "expected_results = []\n",
    "expected_results.extend(y_test)\n",
    "predicted_results.extend(SVM_model2.predict(x_test))\n",
    "print(predicted_results)\n",
    "\n",
    "print(metrics.classification_report(expected_results, predicted_results))"
   ]
  },
  {
   "cell_type": "code",
   "execution_count": 85,
   "metadata": {},
   "outputs": [
    {
     "data": {
      "image/png": "[encoded data removed]",
      "text/plain": [
       "<Figure size 432x288 with 1 Axes>"
      ]
     },
     "metadata": {
      "needs_background": "light"
     },
     "output_type": "display_data"
    }
   ],
   "source": [
    "pr_curve(13, y_test, SVM_model2.predict_proba(x_test))"
   ]
  },
  {
   "cell_type": "code",
   "execution_count": 79,
   "metadata": {},
   "outputs": [],
   "source": [
    "text_index = list(range(0, 1095))\n",
    "x_train = []\n",
    "x_test = []\n",
    "y_train = []\n",
    "y_test = []\n",
    "label = -1\n",
    "for i in lab:\n",
    "    i = i.split()\n",
    "    i = list(map(int, i))\n",
    "    \n",
    "    for j in range(1, len(i)):\n",
    "        text_index.remove(i[j] - 1)\n",
    "        # print(i[j])\n",
    "        x_train.append(text[i[j] - 1])\n",
    "        y_train.append(i[0])\n",
    "for i in text_index:\n",
    "    x_test.append(text[i])\n",
    "texts = x_test + x_train\n",
    "\n",
    "TFlDF = TfidfVectorizer( lowercase=True, stop_words=set(stop_words), min_df=1)\n",
    "TFIDF_vectors = TFlDF.fit_transform(texts)\n",
    "length = len(x_test)\n",
    "x_test = TFIDF_vectors[:length]\n",
    "x_train = TFIDF_vectors[length:]"
   ]
  },
  {
   "cell_type": "code",
   "execution_count": null,
   "metadata": {},
   "outputs": [],
   "source": [
    "SVM_model2 = SVC(kernel='linear', C=1.0)\n",
    "\n",
    "SVM_model2.fit(x_train,y_train)\n",
    "predicted_results = []\n",
    "predicted_results.extend(SVM_model2.predict(x_test))\n",
    "# print(predicted_results)"
   ]
  },
  {
   "cell_type": "code",
   "execution_count": null,
   "metadata": {},
   "outputs": [],
   "source": [
    "import csv\n",
    "with open((file_path+'\\\\data\\\\sub'+ \".csv\"), 'w+', newline='') as f:\n",
    "    writer = csv.writer(f)\n",
    "    writer.writerow(['Id', 'Value'])\n",
    "    cnt = 0\n",
    "    for i in text_index:\n",
    "        # print(i)\n",
    "        writer.writerow([i + 1, predicted_results[cnt]])\n",
    "        cnt += 1"
   ]
  },
  {
   "cell_type": "code",
   "execution_count": null,
   "metadata": {},
   "outputs": [],
   "source": []
  }
 ],
 "metadata": {
  "interpreter": {
   "hash": "13eb0af71620a846e484681143862ad0a4deab6cadfc353264e5c14897c11035"
  },
  "kernelspec": {
   "display_name": "Python 3.9.9 64-bit",
   "language": "python",
   "name": "python3"
  },
  "language_info": {
   "codemirror_mode": {
    "name": "ipython",
    "version": 3
   },
   "file_extension": ".py",
   "mimetype": "text/x-python",
   "name": "python",
   "nbconvert_exporter": "python",
   "pygments_lexer": "ipython3",
   "version": "3.9.9"
  },
  "orig_nbformat": 4
 },
 "nbformat": 4,
 "nbformat_minor": 2
}
