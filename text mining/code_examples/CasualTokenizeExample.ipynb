{
 "cells": [
  {
   "cell_type": "code",
   "execution_count": 1,
   "metadata": {},
   "outputs": [],
   "source": [
    "from nltk.tokenize.casual import casual_tokenize"
   ]
  },
  {
   "cell_type": "code",
   "execution_count": 2,
   "metadata": {},
   "outputs": [],
   "source": [
    "source = \"Donald J. Trump @realDonaldTrump Best day everrrrr. Toooo Awesomemmmmeeeeee :*)  <3 :)\""
   ]
  },
  {
   "cell_type": "code",
   "execution_count": 3,
   "metadata": {},
   "outputs": [
    {
     "data": {
      "text/plain": [
       "['Donald',\n",
       " 'J',\n",
       " '.',\n",
       " 'Trump',\n",
       " '@realDonaldTrump',\n",
       " 'Best',\n",
       " 'day',\n",
       " 'everrrrr',\n",
       " '.',\n",
       " 'Toooo',\n",
       " 'Awesomemmmmeeeeee',\n",
       " ':*)',\n",
       " '<3',\n",
       " ':)']"
      ]
     },
     "execution_count": 3,
     "metadata": {},
     "output_type": "execute_result"
    }
   ],
   "source": [
    "casual_tokenize(source)"
   ]
  },
  {
   "cell_type": "code",
   "execution_count": 4,
   "metadata": {},
   "outputs": [
    {
     "data": {
      "text/plain": [
       "['Donald',\n",
       " 'J',\n",
       " '.',\n",
       " 'Trump',\n",
       " 'Best',\n",
       " 'day',\n",
       " 'everrr',\n",
       " '.',\n",
       " 'Tooo',\n",
       " 'Awesomemmmeee',\n",
       " ':*)',\n",
       " '<3',\n",
       " ':)']"
      ]
     },
     "execution_count": 4,
     "metadata": {},
     "output_type": "execute_result"
    }
   ],
   "source": [
    "casual_tokenize(source, strip_handles=True, reduce_len=True)"
   ]
  },
  {
   "cell_type": "code",
   "execution_count": null,
   "metadata": {},
   "outputs": [],
   "source": []
  },
  {
   "cell_type": "code",
   "execution_count": null,
   "metadata": {},
   "outputs": [],
   "source": []
  },
  {
   "cell_type": "code",
   "execution_count": null,
   "metadata": {},
   "outputs": [],
   "source": []
  },
  {
   "cell_type": "code",
   "execution_count": 5,
   "metadata": {},
   "outputs": [],
   "source": [
    "from nltk.tokenize import word_tokenize"
   ]
  },
  {
   "cell_type": "code",
   "execution_count": 6,
   "metadata": {},
   "outputs": [
    {
     "data": {
      "text/plain": [
       "['Donald',\n",
       " 'J.',\n",
       " 'Trump',\n",
       " '@',\n",
       " 'realDonaldTrump',\n",
       " 'Best',\n",
       " 'day',\n",
       " 'everrrrr',\n",
       " '.',\n",
       " 'Toooo',\n",
       " 'Awesomemmmmeeeeee',\n",
       " ':',\n",
       " '*',\n",
       " ')',\n",
       " '<',\n",
       " '3',\n",
       " ':',\n",
       " ')']"
      ]
     },
     "execution_count": 6,
     "metadata": {},
     "output_type": "execute_result"
    }
   ],
   "source": [
    "word_tokenize(source)"
   ]
  },
  {
   "cell_type": "code",
   "execution_count": null,
   "metadata": {},
   "outputs": [],
   "source": []
  }
 ],
 "metadata": {
  "kernelspec": {
   "display_name": "Python 3",
   "language": "python",
   "name": "python3"
  },
  "language_info": {
   "codemirror_mode": {
    "name": "ipython",
    "version": 3
   },
   "file_extension": ".py",
   "mimetype": "text/x-python",
   "name": "python",
   "nbconvert_exporter": "python",
   "pygments_lexer": "ipython3",
   "version": "3.7.6"
  }
 },
 "nbformat": 4,
 "nbformat_minor": 4
}
